{
 "cells": [
  {
   "cell_type": "code",
   "execution_count": 2,
   "metadata": {},
   "outputs": [],
   "source": [
    "#import statements if necessary"
   ]
  },
  {
   "cell_type": "markdown",
   "metadata": {},
   "source": [
    "# BAYES THEOREM WITH LEGO"
   ]
  },
  {
   "cell_type": "markdown",
   "metadata": {},
   "source": [
    "## Q1. Chance of living in actual Kansas \n",
    "\n",
    "Kansas City, despite its name, sits on the border of two US states: Missouri and Kansas. The Kansas City metropolitan area consists of 15 counties, 9 in Missouri and 6 in Kansas. The entire state of Kansas has 105 counties and Missouri has 114. Use Bayes' theorem to calculate the probability that a relative who just moved to a county in the Kansas City metropolitan area also lives in a county in Kansas.\n",
    "\n",
    "Make sure to show _P(Kansas)_ (assuming your relative either lives in Kansas or Missouri), _P(Kansas City metropolitan area)_, and _P(Kansas City metropolitan area | Kansas)_."
   ]
  },
  {
   "cell_type": "markdown",
   "metadata": {},
   "source": [
    "Our data:\n",
    "- P(A)   = P(Kansas)                          = 105/(105+114)\n",
    "- P(B)   = P(Kansas City metro area)          = 15/219\n",
    "- P(B|A) = P(Kanas City metro area if Kansas) = 6/105"
   ]
  },
  {
   "cell_type": "code",
   "execution_count": 5,
   "metadata": {},
   "outputs": [
    {
     "name": "stdout",
     "output_type": "stream",
     "text": [
      "0.4\n"
     ]
    }
   ],
   "source": [
    "p_A = 105/(105+114)\n",
    "p_B = 15/219\n",
    "p_B_given_A = 6/105\n",
    "\n",
    "p_A_given_B = (p_B_given_A*p_A)/p_B\n",
    "\n",
    "print(p_A_given_B)"
   ]
  },
  {
   "cell_type": "markdown",
   "metadata": {},
   "source": [
    "## Q2. Pulling and ace\n",
    "\n",
    "A deck of cards has 52 cards with suits that are either red or black. There are four aces in a deck of cards: two red and two black. You remove a red ace from the deck and shuffle the cards. Your friend pulls a black card. What is the probability that it is an ace?"
   ]
  },
  {
   "cell_type": "markdown",
   "metadata": {},
   "source": [
    "Our data:\n",
    "- P(A) = P(ace) = 3/51\n",
    "- P(B) = P(black card) = 26/51\n",
    "- P(B|A) = P(black if ace) = 2/3"
   ]
  },
  {
   "cell_type": "code",
   "execution_count": 14,
   "metadata": {},
   "outputs": [
    {
     "name": "stdout",
     "output_type": "stream",
     "text": [
      "0.07692307692307693\n"
     ]
    }
   ],
   "source": [
    "pp_A = 3/51\n",
    "pp_B = 26/51\n",
    "pp_B_given_A = 2/3\n",
    "pp_A_given_B = (pp_B_given_A*pp_A)/pp_B\n",
    "print(pp_A_given_B)"
   ]
  }
 ],
 "metadata": {
  "kernelspec": {
   "display_name": "Python 3",
   "language": "python",
   "name": "python3"
  },
  "language_info": {
   "codemirror_mode": {
    "name": "ipython",
    "version": 3
   },
   "file_extension": ".py",
   "mimetype": "text/x-python",
   "name": "python",
   "nbconvert_exporter": "python",
   "pygments_lexer": "ipython3",
   "version": "3.10.11"
  }
 },
 "nbformat": 4,
 "nbformat_minor": 4
}
